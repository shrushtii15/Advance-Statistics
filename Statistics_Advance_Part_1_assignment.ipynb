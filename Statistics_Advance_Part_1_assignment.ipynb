{
  "nbformat": 4,
  "nbformat_minor": 0,
  "metadata": {
    "colab": {
      "provenance": []
    },
    "kernelspec": {
      "name": "python3",
      "display_name": "Python 3"
    },
    "language_info": {
      "name": "python"
    }
  },
  "cells": [
    {
      "cell_type": "markdown",
      "source": [
        "**Statistics Advance Part 1**"
      ],
      "metadata": {
        "id": "_0pEhEF4iYQ-"
      }
    },
    {
      "cell_type": "markdown",
      "source": [
        "1. What is a random variable in probability theory?\n",
        "\n",
        "  A random variable is a numerical value that represents the outcome of a random experiment.\n",
        "  It maps outcome"
      ],
      "metadata": {
        "id": "HPVZGEIuiYOc"
      }
    },
    {
      "cell_type": "markdown",
      "source": [
        "2. 2. What are the types of random variables?\n",
        "\n",
        "   Discrete RV\n",
        "   \n",
        "   Continuous RV"
      ],
      "metadata": {
        "id": "MAi1xsdFiYMl"
      }
    },
    {
      "cell_type": "markdown",
      "source": [
        "3. What is the difference between discrete and continuous distributions?\n",
        "\n",
        "    **Discrete Distribution**:\n",
        "    Deals with countable outcomes\n",
        "\n",
        "    Example: Binomial, Poisson\n",
        "\n",
        "    Probability assigned to specific values\n",
        "    \n",
        "    **Continuous Distribution**:\n",
        "    Deals with infinite outcomes over an interval\n",
        "\n",
        "  \tExample: Normal, Uniform\n",
        "\n",
        "    Probability assigned over a range (area under curve)\n",
        "\n"
      ],
      "metadata": {
        "id": "FBdHfNpgiYKK"
      }
    },
    {
      "cell_type": "markdown",
      "source": [
        "4. What are probability distribution functions (PDF)?\n",
        "\n",
        "  For continuous variables:\n",
        "  PDF (Probability Density Function) gives the likelihood (density) that a value falls within a particular range.\n",
        "\n",
        "  For discrete variables:\n",
        "  PDF often refers to PMF (Probability Mass Function) which gives exact probability for each value."
      ],
      "metadata": {
        "id": "7vXRa5bGiYHY"
      }
    },
    {
      "cell_type": "markdown",
      "source": [
        "5. How do cumulative distribution functions (CDF) differ from PDF?\n",
        "\n",
        "   PDF:Probability at a specific point (or density)\n",
        "    \n",
        "  CDF:Probability at a specific point (or density)\tProbability up to a point (cumulative)\n"
      ],
      "metadata": {
        "id": "Sm8jCNO-iYE2"
      }
    },
    {
      "cell_type": "markdown",
      "source": [
        "6. What is a discrete uniform distribution?\n",
        "\n",
        " A distribution where all outcomes are equally likely."
      ],
      "metadata": {
        "id": "HZBiiwCYiYCU"
      }
    },
    {
      "cell_type": "markdown",
      "source": [
        "7. What are the key properties of a Bernoulli distribution?\n",
        "\n",
        "  Two possible outcomes: Success (1) or Failure (0).\n",
        "\n",
        "  Probability of success = 𝑝, failure = 1−𝑝.\n",
        "\n",
        "  Mean 𝜇=𝑝, Variance 𝜎2=𝑝(1−𝑝)\n",
        "\n",
        "\n"
      ],
      "metadata": {
        "id": "t9zgUiLRiX_x"
      }
    },
    {
      "cell_type": "markdown",
      "source": [
        "8. What is the binomial distribution, and how is it used in probability?\n",
        "\n",
        "  Models number of successes in 𝑛 independent Bernoulli trials.\n",
        "\n",
        "  "
      ],
      "metadata": {
        "id": "zwpLNE44iX9W"
      }
    },
    {
      "cell_type": "markdown",
      "source": [
        "9. What is the Poisson distribution and where is it applied?\n",
        "\n",
        "  Models the number of times an event occurs in a fixed interval of time or space.\n",
        "\n",
        "   Applications: Number of emails per hour, number of arrivals at a bus stop."
      ],
      "metadata": {
        "id": "XrIW_pUdiX60"
      }
    },
    {
      "cell_type": "markdown",
      "source": [
        "10. What is a continuous uniform distribution?\n",
        "\n",
        "  Every value in an interval\n",
        "  [a,b] is equally likely."
      ],
      "metadata": {
        "id": "YaRYNMW1iX4g"
      }
    },
    {
      "cell_type": "markdown",
      "source": [
        "11. What are the characteristics of a normal distribution?\n",
        "\n",
        "  Bell-shaped, symmetric around the mean.\n",
        "\n",
        "  Defined by mean (μ) and standard deviation (σ).\n",
        "\n",
        "  Total area under curve = 1."
      ],
      "metadata": {
        "id": "UilyFMjaiX13"
      }
    },
    {
      "cell_type": "markdown",
      "source": [
        "12. What is the standard normal distribution, and why is it important?\n",
        "\n",
        "  Special case of normal distribution:\n",
        "  Mean = 0, Standard Deviation = 1.\n",
        "\n",
        "  Any normal distribution can be converted to standard normal using Z-scores, making statistical tables and comparisons easier."
      ],
      "metadata": {
        "id": "0YBK1hsHiXzb"
      }
    },
    {
      "cell_type": "markdown",
      "source": [
        "13. What is the Central Limit Theorem (CLT), and why is it critical in statistics?\n",
        "\n",
        "  CLT states:\n",
        "  For a large sample size, the sampling distribution of the sample mean will approximate a normal distribution, regardless of the original distribution shape.\n",
        "\n",
        "  Importance:\n",
        "  It allows us to apply normal distribution methods even when the population isn't normally distributed.\n",
        "\n"
      ],
      "metadata": {
        "id": "oqC2flJWiXxB"
      }
    },
    {
      "cell_type": "markdown",
      "source": [
        "14. How does the Central Limit Theorem relate to the normal distribution?\n",
        "\n",
        "  CLT ensures that sample means (from any population) become approximately normally distributed as sample size\n",
        "  n increases, especially for n≥30."
      ],
      "metadata": {
        "id": "h_eZmFbViXuW"
      }
    },
    {
      "cell_type": "markdown",
      "source": [
        "15. What is the application of Z statistics in hypothesis testing?\n",
        "\n",
        "  Used when population standard deviation is known.\n",
        "\n",
        "  Helps to test whether the sample mean differs significantly from the population mean."
      ],
      "metadata": {
        "id": "H1hMLvRfiXr-"
      }
    },
    {
      "cell_type": "markdown",
      "source": [
        "16. How do you calculate a Z-score, and what does it represent?\n",
        "\n",
        "  Formula: Z=X-U(mu)/Sigma\n",
        "\n",
        "  Number of standard deviations a value\n",
        "  X is from the mean."
      ],
      "metadata": {
        "id": "CBUIlaAcl49-"
      }
    },
    {
      "cell_type": "markdown",
      "source": [
        "17. What are point estimates and interval estimates in statistics?\n",
        "\n",
        "   Point Estimate:Single value estimate\n",
        "   \n",
        "   Interval Estimate:Range of values\n",
        "\n"
      ],
      "metadata": {
        "id": "hYbRlMj7l46Z"
      }
    },
    {
      "cell_type": "markdown",
      "source": [
        "18. What is the significance of confidence intervals in statistical analysis?\n",
        "\n",
        "   Provide a range of plausible values for a population parameter."
      ],
      "metadata": {
        "id": "0UimdTX1l44M"
      }
    },
    {
      "cell_type": "markdown",
      "source": [
        "19. What is the relationship between a Z-score and a confidence interval?\n",
        "\n",
        "  Z-scores determine the margin of error for a given confidence level.\n",
        "\n"
      ],
      "metadata": {
        "id": "AlTfBK5Ul413"
      }
    },
    {
      "cell_type": "markdown",
      "source": [
        "20. How are Z-scores used to compare different distributions?\n",
        "\n",
        "  Z-scores standardize different datasets, allowing comparison by converting different scales to a common standard normal scale."
      ],
      "metadata": {
        "id": "UCj00OX3l4zV"
      }
    },
    {
      "cell_type": "markdown",
      "source": [
        "21. What are the assumptions for applying the Central Limit Theorem?\n",
        "\n",
        "  Random and independent sampling.\n",
        "\n",
        "  Finite population variance."
      ],
      "metadata": {
        "id": "P6bRZcMsl4ws"
      }
    },
    {
      "cell_type": "markdown",
      "source": [
        "22. What is the concept of expected value in a probability distribution?\n",
        "\n",
        "  The long-run average outcome of a random variable over many trials."
      ],
      "metadata": {
        "id": "mvQQgkR8l4uk"
      }
    },
    {
      "cell_type": "markdown",
      "source": [
        "23. How does a probability distribution relate to the expected outcome of a random variable?\n",
        "\n",
        "  The expected value (mean) is calculated directly from the probability distribution of the random variable, weighing each possible value by its probability."
      ],
      "metadata": {
        "id": "f8K3Syzfl4rv"
      }
    },
    {
      "cell_type": "code",
      "source": [],
      "metadata": {
        "id": "sHGNyocfl1sQ"
      },
      "execution_count": null,
      "outputs": []
    }
  ]
}